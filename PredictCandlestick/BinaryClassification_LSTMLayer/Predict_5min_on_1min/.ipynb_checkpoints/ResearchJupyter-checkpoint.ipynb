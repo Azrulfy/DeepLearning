{
 "cells": [
  {
   "cell_type": "code",
   "execution_count": 5,
   "metadata": {},
   "outputs": [],
   "source": [
    "from sklearn.model_selection import train_test_split\n",
    "from keras.models import Sequential\n",
    "from keras.layers import Dense\n",
    "import matplotlib.pyplot as plt\n",
    "from sklearn import preprocessing\n",
    "import numpy as np\n",
    "import pandas as pd\n",
    "import itertools\n",
    "from CustomIndicators import moving_average, relative_strength, moving_average_convergence\n"
   ]
  },
  {
   "cell_type": "code",
   "execution_count": 6,
   "metadata": {},
   "outputs": [],
   "source": [
    "def GetTheInputData(filename, History=False):\n",
    "    # import the candle stick data\n",
    "    if History == True:\n",
    "        EmptyTensor = []\n",
    "        MyFinalData = EmptyTensor\n",
    "    else:\n",
    "        MyRawData = pd.read_csv(filename) \n",
    "\n",
    "\n",
    "        #calculate time series\n",
    "        MyRawData['time'] = pd.to_datetime(MyRawData['Gmt time'], format='%d.%m.%Y %H:%M:%S.000', utc=True)\n",
    "        MyRawData['time'] = MyRawData['time'].dt.date\n",
    "        MyRawData['time'] = pd.to_datetime(MyRawData['time'])\n",
    "        MyRawData['day of week'] = MyRawData['time'].dt.dayofweek\n",
    "\n",
    "\n",
    "\n",
    "\n",
    "        MyRawData['Hour'] = MyRawData['Gmt time'].str[11:13].astype(dtype=np.int64)\n",
    "        MyRawData['Minute'] = MyRawData['Gmt time'].str[14:16].astype(dtype=np.int64)\n",
    "\n",
    "        #calculate candle size parameters in pips\n",
    "        MyRawData['BodyPips'] = abs((MyRawData['Open']-MyRawData['Close']) * 10000)\n",
    "        MyRawData['WickUpPips'] = (abs(MyRawData['Open']-MyRawData['High']) * 10000)\n",
    "        MyRawData['WickDownPips'] = (abs(MyRawData['Close']-MyRawData['Low']) * 10000)\n",
    "\n",
    "        MyRawData['Day of Week Normal'] = (MyRawData['day of week'] /4)\n",
    "        MyRawData['Hour Normal'] = (MyRawData['Hour'] /23)\n",
    "        MyRawData['Minute Normal'] = (MyRawData['Minute'] /59)\n",
    "\n",
    "        #calculate the candle type - undecision, buy , sell\n",
    "        MyRawData.loc[MyRawData.BodyPips == 0, 'GreenOrRed?'] = 0\n",
    "        MyRawData.loc[MyRawData.Open < MyRawData.Close, 'GreenOrRed?'] = 1\n",
    "        MyRawData.loc[MyRawData.Open > MyRawData.Close, 'GreenOrRed?'] = 0\n",
    "\n",
    "\n",
    "\n",
    "        nslow = 26\n",
    "        nfast = 12\n",
    "        nema = 9\n",
    "        MyRawData['EmaSlow'], MyRawData['EmaFast'], MyRawData['MACD'] = moving_average_convergence(MyRawData['Close'].values, nslow=nslow, nfast=nfast)\n",
    "        MyRawData['Ema9'] = moving_average(MyRawData['MACD'].values, nema, type='exponential')\n",
    "        MyRawData['RSI'] = relative_strength(MyRawData['Close'].values)\n",
    "\n",
    "\n",
    "\n",
    "        #Set number of days and standard deviations to use for rolling lookback period for Bollinger band calculation\n",
    "        window = 21\n",
    "        no_of_std = 2\n",
    "\n",
    "        #Calculate rolling mean and standard deviation using number of days set above\n",
    "        rolling_mean = MyRawData['Close'].rolling(window).mean()\n",
    "        rolling_std = MyRawData['Close'].rolling(window).std()\n",
    "\n",
    "        #create two new DataFrame columns to hold values of upper and lower Bollinger bands\n",
    "        MyRawData['Rolling Mean'] = rolling_mean\n",
    "        MyRawData['Bollinger High'] = rolling_mean + (rolling_std * no_of_std)\n",
    "        MyRawData['Bollinger Low'] = rolling_mean - (rolling_std * no_of_std)\n",
    "\n",
    "        \n",
    "            #add 4 more history candle sticks\n",
    "        for CandleCount in range(10):\n",
    "            ActualCandleCount = CandleCount + 1\n",
    "            MyRawData['BodyPips' + '_' + str(ActualCandleCount)] = MyRawData['BodyPips'].shift(-ActualCandleCount)\n",
    "            MyRawData['WickUpPips' + '_' + str(ActualCandleCount)] = MyRawData['WickUpPips'].shift(-ActualCandleCount)\n",
    "            MyRawData['WickDownPips' + '_' + str(ActualCandleCount)] = MyRawData['WickDownPips'].shift(-ActualCandleCount)\n",
    "            MyRawData['Day of Week Normal' + '_' + str(ActualCandleCount)] = MyRawData['Minute Normal'].shift(-ActualCandleCount)\n",
    "            MyRawData['Hour Normal' + '_' + str(ActualCandleCount)] = MyRawData['Hour Normal'].shift(-ActualCandleCount)\n",
    "            MyRawData['Minute Normal' + '_' + str(ActualCandleCount)] = MyRawData['Minute Normal'].shift(-ActualCandleCount)\n",
    "            MyRawData['GreenOrRed?' + '_' + str(ActualCandleCount)] = MyRawData['GreenOrRed?'].shift(-ActualCandleCount)\n",
    "            MyRawData['EmaSlow' + '_' + str(ActualCandleCount)] = MyRawData['EmaSlow'].shift(-ActualCandleCount)\n",
    "            MyRawData['EmaFast' + '_' + str(ActualCandleCount)] = MyRawData['EmaFast'].shift(-ActualCandleCount)\n",
    "            MyRawData['MACD' + '_' + str(ActualCandleCount)] = MyRawData['MACD'].shift(-ActualCandleCount)\n",
    "            MyRawData['Ema9' + '_' + str(ActualCandleCount)] = MyRawData['Ema9'].shift(-ActualCandleCount)\n",
    "            MyRawData['RSI' + '_' + str(ActualCandleCount)] = MyRawData['RSI'].shift(-ActualCandleCount)\n",
    "            MyRawData['Rolling Mean' + '_' + str(ActualCandleCount)] = MyRawData['Rolling Mean'].shift(-ActualCandleCount)\n",
    "            MyRawData['Bollinger High' + '_' + str(ActualCandleCount)] = MyRawData['Bollinger High'].shift(-ActualCandleCount)\n",
    "            MyRawData['Bollinger Low' + '_' + str(ActualCandleCount)] = MyRawData['Bollinger Low'].shift(-ActualCandleCount)\n",
    "\n",
    "\n",
    "        \n",
    "        #populate las column with the output\n",
    "        MyRawData['Close_ver1'] = MyRawData['Close'].shift(10)\n",
    "        MyRawData['Close_ver2'] = MyRawData['Close'].shift(15)\n",
    "        MyRawData.loc[MyRawData.Close_ver1 < MyRawData.Close_ver2, 'output'] = 1\n",
    "        MyRawData.loc[MyRawData.Close_ver1 >= MyRawData.Close_ver2, 'output'] = 0\n",
    "\n",
    "\n",
    "\n",
    "\n",
    "            #remove not important fields\n",
    "        del MyRawData['Close_ver1']\n",
    "        del MyRawData['Close_ver2']\n",
    "        del MyRawData['Gmt time']\n",
    "        del MyRawData['Open']\n",
    "        del MyRawData['High']\n",
    "        del MyRawData['Low']\n",
    "        del MyRawData['Close']\n",
    "        del MyRawData['Volume']\n",
    "        del MyRawData['time']\n",
    "        del MyRawData['day of week']\n",
    "        del MyRawData['Hour'] \n",
    "        del MyRawData['Minute'] \n",
    "\n",
    "        #remove last row without output value\n",
    "        MyFinalData = MyRawData[50:-50]\n",
    "\n",
    "        #export_csv = MyRawData.to_csv ('test.csv', index = None, header=True)\n",
    "\n",
    "    \n",
    "    return MyFinalData"
   ]
  },
  {
   "cell_type": "code",
   "execution_count": 74,
   "metadata": {},
   "outputs": [],
   "source": [
    "df = GetTheInputData('filename.csv')"
   ]
  },
  {
   "cell_type": "code",
   "execution_count": 90,
   "metadata": {},
   "outputs": [],
   "source": [
    "dataset = df.values"
   ]
  },
  {
   "cell_type": "code",
   "execution_count": 91,
   "metadata": {},
   "outputs": [
    {
     "data": {
      "text/plain": [
       "871100"
      ]
     },
     "execution_count": 91,
     "metadata": {},
     "output_type": "execute_result"
    }
   ],
   "source": [
    "len(dataset)"
   ]
  },
  {
   "cell_type": "code",
   "execution_count": 92,
   "metadata": {},
   "outputs": [],
   "source": [
    "X = dataset[:, 0:165]\n",
    "Y = dataset[:, 165]"
   ]
  },
  {
   "cell_type": "code",
   "execution_count": 93,
   "metadata": {},
   "outputs": [
    {
     "data": {
      "text/plain": [
       "array([1., 1., 1., ..., 1., 0., 1.])"
      ]
     },
     "execution_count": 93,
     "metadata": {},
     "output_type": "execute_result"
    }
   ],
   "source": [
    "Y"
   ]
  },
  {
   "cell_type": "code",
   "execution_count": null,
   "metadata": {},
   "outputs": [],
   "source": [
    "\n",
    "\n",
    "#**************************************\n",
    "\n",
    "\n",
    "#********** Normalize the Input Values ************\n",
    "min_max_scaler = preprocessing.MinMaxScaler()\n",
    "X_scale = min_max_scaler.fit_transform(X)\n",
    "#**************************************************\n",
    "\n",
    "\n",
    "#********** Cut Values to 3 piecies ************\n",
    "#Normalized\n",
    "X_train, X_val_and_test, Y_train, Y_val_and_test = train_test_split(X_scale, Y, test_size=0.3)\n",
    "X_val, X_test, Y_val, Y_test = train_test_split(X_val_and_test, Y_val_and_test, test_size=0.5)\n",
    "#Raw\n",
    "X_train_Raw, X_val_and_test_Raw, Y_train_Raw, Y_val_and_test_Raw = train_test_split(X, Y, test_size=0.3)\n",
    "X_val_Raw, X_test_Raw, Y_val_Raw, Y_test_Raw = train_test_split(X_val_and_test_Raw, Y_val_and_test_Raw, test_size=0.5)\n",
    "#print(X_train.shape, X_val.shape, X_test.shape, Y_train.shape, Y_val.shape, Y_test.shape)\n",
    "#***********************************************\n",
    "\n"
   ]
  },
  {
   "cell_type": "code",
   "execution_count": null,
   "metadata": {
    "scrolled": true
   },
   "outputs": [],
   "source": [
    "\n",
    "\n",
    "#********** Build the Model and Compile ************\n",
    "model = Sequential()\n",
    "model.add(Dense(128, input_dim=165, kernel_initializer='normal', activation='relu'))\n",
    "model.add(Dense(32, kernel_initializer='normal', activation='relu'))\n",
    "model.add(Dense(16, kernel_initializer='normal', activation='relu'))\n",
    "model.add(Dense(8, kernel_initializer='normal', activation='relu'))\n",
    "model.add(Dense(1, kernel_initializer='normal', activation='sigmoid'))\n",
    "model.compile(loss='binary_crossentropy', optimizer='adam', metrics=['accuracy'])\n",
    "#***************************************************\n",
    "\n",
    "\n",
    "#********** Train the Model ********************\n",
    "hist = model.fit(X_train, Y_train,batch_size=2048, epochs=12,validation_data=(X_val, Y_val))\n",
    "#***********************************************\n",
    "\n",
    "\n",
    "#********** Test the Model on New Data ********************\n",
    "test_loss, test_acc = model.evaluate(X_test, Y_test)\n",
    "print('Test accuracy:', test_acc)\n",
    "#*********************************************************\n",
    "\n",
    "\n",
    "#********** Perform predictions on new Dataset ********************\n",
    "predictions = model.predict(X_test)\n",
    "#******************************************************************\n",
    "\n"
   ]
  },
  {
   "cell_type": "code",
   "execution_count": 81,
   "metadata": {},
   "outputs": [
    {
     "name": "stdout",
     "output_type": "stream",
     "text": [
      "Trades: 8 -- Good trades: 6 -- Percantage: 75.0%\n"
     ]
    }
   ],
   "source": [
    "\n",
    "\n",
    "#********** Calculate the Stats ********************\n",
    "# 1.Define stats variables\n",
    "TotalTrades = 0\n",
    "GoodTrades = 0\n",
    "counter = 0\n",
    "WeekDayStats = {'Monday':[0,0],'Tuesday':[0,0],'Wendsday':[0,0],'Thursday':[0,0],'Friday':[0,0]}\n",
    "ConsequtiveStats = []\n",
    "\n",
    "PredictedResults = []\n",
    "\n",
    "LastWon = False\n",
    "Weekdays = round(len(predictions)/7200,0)\n",
    "\n",
    "\n",
    "# 2.Loop through predictions\n",
    "for prediction_check in predictions:\n",
    "    if prediction_check > 0.99999 or prediction_check < 0.00001:\n",
    "        # Predictions above threshold\n",
    "\n",
    "        TotalTrades = TotalTrades+1\n",
    "        Map_Raw_Data = X_test_Raw[counter]\n",
    "        \n",
    "     \n",
    "        \n",
    "        # Check if won or lost\n",
    "        WonLost_WeekDay_Coutner = 0\n",
    "        if np.argmax(predictions[counter]) == Y_test[counter]:\n",
    "            # Won\n",
    "            GoodTrades = GoodTrades + 1\n",
    "            WonLost_WeekDay_Coutner = 0\n",
    "            ConsequtiveStats.append(1)\n",
    "            \n",
    "        else:\n",
    "            WonLost_WeekDay_Coutner = 1\n",
    "            ConsequtiveStats.append(0)\n",
    "            \n",
    "            \n",
    "        if Map_Raw_Data[3] == 0: WeekDayStats['Monday'][WonLost_WeekDay_Coutner] = WeekDayStats['Monday'][WonLost_WeekDay_Coutner] + 1\n",
    "        if Map_Raw_Data[3] == 0.25: WeekDayStats['Tuesday'][WonLost_WeekDay_Coutner] = WeekDayStats['Tuesday'][WonLost_WeekDay_Coutner] + 1\n",
    "        if Map_Raw_Data[3] == 0.5: WeekDayStats['Wendsday'][WonLost_WeekDay_Coutner] = WeekDayStats['Wendsday'][WonLost_WeekDay_Coutner] + 1\n",
    "        if Map_Raw_Data[3] == 0.75: WeekDayStats['Thursday'][WonLost_WeekDay_Coutner] = WeekDayStats['Thursday'][WonLost_WeekDay_Coutner] + 1\n",
    "        if Map_Raw_Data[3] == 1: WeekDayStats['Friday'][WonLost_WeekDay_Coutner] = WeekDayStats['Friday'][WonLost_WeekDay_Coutner] + 1\n",
    "        \n",
    "            \n",
    "            \n",
    "            \n",
    "    counter = counter + 1\n",
    "\n",
    "# 3. Append stats variables\n",
    "\n",
    "z = [(x[0], len(list(x[1]))) for x in itertools.groupby(ConsequtiveStats)]    \n",
    "\n",
    "MaxLost = 0\n",
    "MaxWon = 0\n",
    "\n",
    "for a in z:\n",
    "    if a[0]==0:\n",
    "        if a[1] > MaxLost: MaxLost = a[1]\n",
    "    else:\n",
    "        if a[1] > MaxWon: MaxWon = a[1]\n",
    "\n",
    "\n",
    "\n",
    "#Get average trades per week\n",
    "for key, value in WeekDayStats.items():\n",
    "    value[0] = round(value[0]/Weekdays,0)\n",
    "    value[1] = round(value[1]/Weekdays,0)\n",
    "\n",
    "print ('Trades: ' + str(TotalTrades) + ' -- ' + 'Good trades: ' + str(GoodTrades) + ' -- ' + 'Percantage: ' + str(round(((GoodTrades/TotalTrades)*100),2))+ '%')\n",
    "\n",
    "\n",
    "#******************************************************************\n",
    "\n",
    "\n",
    "\n"
   ]
  },
  {
   "cell_type": "code",
   "execution_count": 82,
   "metadata": {},
   "outputs": [
    {
     "data": {
      "image/png": "[encoded data removed]",
      "text/plain": [
       "<Figure size 432x288 with 1 Axes>"
      ]
     },
     "metadata": {
      "needs_background": "light"
     },
     "output_type": "display_data"
    },
    {
     "data": {
      "image/png": "[encoded data removed]",
      "text/plain": [
       "<Figure size 432x288 with 1 Axes>"
      ]
     },
     "metadata": {
      "needs_background": "light"
     },
     "output_type": "display_data"
    },
    {
     "data": {
      "image/png": "[encoded data removed]",
      "text/plain": [
       "<Figure size 432x288 with 1 Axes>"
      ]
     },
     "metadata": {},
     "output_type": "display_data"
    },
    {
     "data": {
      "image/png": "[encoded data removed]",
      "text/plain": [
       "<Figure size 432x288 with 1 Axes>"
      ]
     },
     "metadata": {
      "needs_background": "light"
     },
     "output_type": "display_data"
    },
    {
     "data": {
      "image/png": "[encoded data removed]",
      "text/plain": [
       "<Figure size 432x288 with 1 Axes>"
      ]
     },
     "metadata": {
      "needs_background": "light"
     },
     "output_type": "display_data"
    }
   ],
   "source": [
    "\n",
    "\n",
    "\n",
    "#********** Create the Charts Dashboard ********************\n",
    "\n",
    "# Chart 1 - Model Loss\n",
    "#plt.subplot(331)\n",
    "plt.plot(hist.history['loss'])\n",
    "plt.plot(hist.history['val_loss'])\n",
    "plt.title('Model loss')\n",
    "plt.ylabel('Loss')\n",
    "plt.xlabel('Epoch')\n",
    "plt.legend(['Train', 'Val'], loc='upper right')\n",
    "plt.show()\n",
    "\n",
    "\n",
    "# Chart 2 - Model Accuracy\n",
    "#plt.subplot(332)\n",
    "plt.plot(hist.history['acc'])\n",
    "plt.plot(hist.history['val_acc'])\n",
    "plt.title('Model accuracy')\n",
    "plt.ylabel('Accuracy')\n",
    "plt.xlabel('Epoch')\n",
    "plt.legend(['Train', 'Val'], loc='lower right')\n",
    "plt.show()\n",
    "\n",
    "\n",
    "# Chart 3 - Lost and Won trades % above 70%\n",
    "#plt.subplot(333)\n",
    "labels = 'WON', 'LOST'\n",
    "sizes = [GoodTrades, (TotalTrades-GoodTrades)]\n",
    "explode = (0, 0.1)  \n",
    "plt.pie(sizes, explode=explode, labels=labels, autopct='%1.1f%%',shadow=True, startangle=90)\n",
    "plt.axis('equal')  # Equal aspect ratio ensures that pie is drawn as a circle.\n",
    "plt.title('Predictions above 70% confidence')\n",
    "plt.show()\n",
    "\n",
    "\n",
    "# Chart 4 - Average Trades per week day\n",
    "\n",
    "#plt.subplot(334)\n",
    "N = 5\n",
    "TradesWonWeekDay = (WeekDayStats['Monday'][0]+WeekDayStats['Monday'][1], \n",
    "                    WeekDayStats['Tuesday'][0]+WeekDayStats['Tuesday'][1],\n",
    "                    WeekDayStats['Wendsday'][0]+WeekDayStats['Wendsday'][1], \n",
    "                    WeekDayStats['Thursday'][0]+WeekDayStats['Thursday'][1], \n",
    "                    WeekDayStats['Friday'][0]+WeekDayStats['Friday'][1])\n",
    "TradesLostWeekDay = (WeekDayStats['Monday'][1], WeekDayStats['Tuesday'][1], WeekDayStats['Wendsday'][1], WeekDayStats['Thursday'][1], WeekDayStats['Friday'][1])\n",
    "\n",
    "\n",
    "\n",
    "ind = np.arange(N)    # the x locations for the groups\n",
    "width = 0.35       # the width of the bars: can also be len(x) sequence\n",
    "\n",
    "p1 = plt.bar(ind, TradesWonWeekDay, width)\n",
    "p2 = plt.bar(ind, TradesLostWeekDay, width)\n",
    "\n",
    "plt.ylabel('Trades')\n",
    "plt.title('Trades per Week Day during Weeks: ' + str(Weekdays))\n",
    "plt.xticks(ind, ('Monday', 'Tuesday', 'Wendsday', 'Thursday', 'Friday'))\n",
    "plt.legend((p1[0], p2[0]), ('WON', 'LOST'))\n",
    "plt.show()\n",
    "\n",
    "\n",
    "# Chart 5 - Consequtive Losses and Wins\n",
    "#plt.subplot(335)\n",
    "plt.title('Consequitive wins and losses in a row')\n",
    "x = np.arange(2)\n",
    "money = [MaxWon,MaxLost]\n",
    "plt.bar(x, money)\n",
    "plt.xticks(x, ('Won','Lost'))\n",
    "\n",
    "\n",
    "#**************************************\n",
    "plt.show()\n",
    "#******************************************************************\n"
   ]
  },
  {
   "cell_type": "code",
   "execution_count": 83,
   "metadata": {},
   "outputs": [],
   "source": [
    "#***** Get the Values from Pandas *****\n",
    "dff = GetTheInputData('EURUSD_M1_NEW.csv')\n",
    "datasett = dff.values\n",
    "XX = datasett[:, 0:165]\n",
    "YY = datasett[:, 165]\n",
    "#**************************************"
   ]
  },
  {
   "cell_type": "code",
   "execution_count": 84,
   "metadata": {},
   "outputs": [],
   "source": [
    "#********** Normalize the Input Values ************\n",
    "min_max_scaler = preprocessing.MinMaxScaler()\n",
    "XX_scale = min_max_scaler.fit_transform(XX)\n",
    "#**************************************************"
   ]
  },
  {
   "cell_type": "code",
   "execution_count": 85,
   "metadata": {},
   "outputs": [
    {
     "name": "stdout",
     "output_type": "stream",
     "text": [
      "44345/44345 [==============================] - 1s 31us/step\n",
      "Test accuracy: 0.4720036080710473\n"
     ]
    }
   ],
   "source": [
    "\n",
    "#********** Test the Model on New Data ********************\n",
    "test_loss, test_acc = model.evaluate(XX, YY)\n",
    "print('Test accuracy:', test_acc)\n",
    "#*********************************************************\n",
    "\n",
    "#********** Perform predictions on new Dataset ********************\n",
    "predictions = model.predict(XX_scale)\n",
    "#******************************************************************\n",
    "\n"
   ]
  },
  {
   "cell_type": "code",
   "execution_count": 88,
   "metadata": {},
   "outputs": [
    {
     "name": "stdout",
     "output_type": "stream",
     "text": [
      "Trades: 172 -- Good trades: 154 -- Percantage: 89.53%\n"
     ]
    }
   ],
   "source": [
    "\n",
    "#********** Calculate the Stats ********************\n",
    "# 1.Define stats variables\n",
    "TotalTrades = 0\n",
    "GoodTrades = 0\n",
    "counter = 0\n",
    "WeekDayStats = {'Monday':[0,0],'Tuesday':[0,0],'Wendsday':[0,0],'Thursday':[0,0],'Friday':[0,0]}\n",
    "ConsequtiveStats = []\n",
    "\n",
    "PredictedResults = []\n",
    "\n",
    "LastWon = False\n",
    "Weekdays = round(len(predictions)/7200,0)\n",
    "\n",
    "\n",
    "# 2.Loop through predictions\n",
    "for prediction_check in predictions:\n",
    "    if prediction_check > 0.999999999 or prediction_check < 0.000000001:\n",
    "        # Predictions above threshold\n",
    "\n",
    "        TotalTrades = TotalTrades+1\n",
    "        Map_Raw_Data = XX[counter]\n",
    "        \n",
    "     \n",
    "     \n",
    "        # Check if won or lost\n",
    "        WonLost_WeekDay_Coutner = 0\n",
    "        if np.argmax(predictions[counter]) == YY[counter]:\n",
    "            # Won\n",
    "            GoodTrades = GoodTrades + 1\n",
    "            WonLost_WeekDay_Coutner = 0\n",
    "            ConsequtiveStats.append(1)\n",
    "            \n",
    "        else:\n",
    "            WonLost_WeekDay_Coutner = 1\n",
    "            ConsequtiveStats.append(0)\n",
    "            \n",
    "            \n",
    "        if Map_Raw_Data[3] == 0: WeekDayStats['Monday'][WonLost_WeekDay_Coutner] = WeekDayStats['Monday'][WonLost_WeekDay_Coutner] + 1\n",
    "        if Map_Raw_Data[3] == 0.25: WeekDayStats['Tuesday'][WonLost_WeekDay_Coutner] = WeekDayStats['Tuesday'][WonLost_WeekDay_Coutner] + 1\n",
    "        if Map_Raw_Data[3] == 0.5: WeekDayStats['Wendsday'][WonLost_WeekDay_Coutner] = WeekDayStats['Wendsday'][WonLost_WeekDay_Coutner] + 1\n",
    "        if Map_Raw_Data[3] == 0.75: WeekDayStats['Thursday'][WonLost_WeekDay_Coutner] = WeekDayStats['Thursday'][WonLost_WeekDay_Coutner] + 1\n",
    "        if Map_Raw_Data[3] == 1: WeekDayStats['Friday'][WonLost_WeekDay_Coutner] = WeekDayStats['Friday'][WonLost_WeekDay_Coutner] + 1\n",
    "        \n",
    "         \n",
    "            \n",
    "            \n",
    "    counter = counter + 1\n",
    "\n",
    "# 3. Append stats variables\n",
    "\n",
    "z = [(x[0], len(list(x[1]))) for x in itertools.groupby(ConsequtiveStats)]    \n",
    "\n",
    "MaxLost = 0\n",
    "MaxWon = 0\n",
    "\n",
    "for a in z:\n",
    "    if a[0]==0:\n",
    "        if a[1] > MaxLost: MaxLost = a[1]\n",
    "    else:\n",
    "        if a[1] > MaxWon: MaxWon = a[1]\n",
    "\n",
    "\n",
    "\n",
    "#Get average trades per week\n",
    "for key, value in WeekDayStats.items():\n",
    "    value[0] = round(value[0]/Weekdays,0)\n",
    "    value[1] = round(value[1]/Weekdays,0)\n",
    "\n",
    "print ('Trades: ' + str(TotalTrades) + ' -- ' + 'Good trades: ' + str(GoodTrades) + ' -- ' + 'Percantage: ' + str(round(((GoodTrades/TotalTrades)*100),2))+ '%')\n",
    "\n",
    "\n",
    "#******************************************************************\n"
   ]
  },
  {
   "cell_type": "code",
   "execution_count": 89,
   "metadata": {},
   "outputs": [
    {
     "data": {
      "image/png": "[encoded data removed]",
      "text/plain": [
       "<Figure size 432x288 with 1 Axes>"
      ]
     },
     "metadata": {},
     "output_type": "display_data"
    },
    {
     "name": "stdout",
     "output_type": "stream",
     "text": [
      "(2.0, 2.0, 8.0, 10.0, 6.0)\n",
      "(0.0, 0.0, 1.0, 1.0, 1.0)\n"
     ]
    },
    {
     "data": {
      "image/png": "[encoded data removed]",
      "text/plain": [
       "<Figure size 432x288 with 1 Axes>"
      ]
     },
     "metadata": {
      "needs_background": "light"
     },
     "output_type": "display_data"
    },
    {
     "data": {
      "image/png": "[encoded data removed]",
      "text/plain": [
       "<Figure size 432x288 with 1 Axes>"
      ]
     },
     "metadata": {
      "needs_background": "light"
     },
     "output_type": "display_data"
    }
   ],
   "source": [
    "\n",
    "#********** Create the Charts Dashboard ********************\n",
    "\n",
    "\n",
    "# Chart 3 - Lost and Won trades % above 70%\n",
    "#plt.subplot(333)\n",
    "labels = 'WON', 'LOST'\n",
    "sizes = [GoodTrades, (TotalTrades-GoodTrades)]\n",
    "explode = (0, 0.1)  \n",
    "plt.pie(sizes, explode=explode, labels=labels, autopct='%1.1f%%',shadow=True, startangle=90)\n",
    "plt.axis('equal')  # Equal aspect ratio ensures that pie is drawn as a circle.\n",
    "plt.title('Predictions above 70% confidence')\n",
    "plt.show()\n",
    "\n",
    "\n",
    "# Chart 4 - Average Trades per week day\n",
    "\n",
    "#plt.subplot(334)\n",
    "N = 5\n",
    "TradesWonWeekDay = (WeekDayStats['Monday'][0]+WeekDayStats['Monday'][1], \n",
    "                    WeekDayStats['Tuesday'][0]+WeekDayStats['Tuesday'][1],\n",
    "                    WeekDayStats['Wendsday'][0]+WeekDayStats['Wendsday'][1], \n",
    "                    WeekDayStats['Thursday'][0]+WeekDayStats['Thursday'][1], \n",
    "                    WeekDayStats['Friday'][0]+WeekDayStats['Friday'][1])\n",
    "TradesLostWeekDay = (WeekDayStats['Monday'][1], WeekDayStats['Tuesday'][1], WeekDayStats['Wendsday'][1], WeekDayStats['Thursday'][1], WeekDayStats['Friday'][1])\n",
    "print(TradesWonWeekDay)\n",
    "print(TradesLostWeekDay)\n",
    "\n",
    "ind = np.arange(N)    # the x locations for the groups\n",
    "width = 0.35       # the width of the bars: can also be len(x) sequence\n",
    "\n",
    "p1 = plt.bar(ind, TradesWonWeekDay, width)\n",
    "p2 = plt.bar(ind, TradesLostWeekDay, width)\n",
    "\n",
    "plt.ylabel('Trades')\n",
    "plt.title('Trades per Week Day during Weeks: ' + str(Weekdays))\n",
    "plt.xticks(ind, ('Monday', 'Tuesday', 'Wendsday', 'Thursday', 'Friday'))\n",
    "plt.legend((p1[0], p2[0]), ('WON', 'LOST'))\n",
    "plt.show()\n",
    "\n",
    "\n",
    "# Chart 5 - Consequtive Losses and Wins\n",
    "#plt.subplot(335)\n",
    "plt.title('Consequitive wins and losses in a row')\n",
    "x = np.arange(2)\n",
    "money = [MaxWon,MaxLost]\n",
    "plt.bar(x, money)\n",
    "plt.xticks(x, ('Won','Lost'))\n",
    "\n",
    "\n",
    "#**************************************\n",
    "plt.show()\n",
    "#******************************************************************\n"
   ]
  },
  {
   "cell_type": "code",
   "execution_count": null,
   "metadata": {},
   "outputs": [],
   "source": []
  },
  {
   "cell_type": "code",
   "execution_count": null,
   "metadata": {},
   "outputs": [],
   "source": []
  },
  {
   "cell_type": "code",
   "execution_count": null,
   "metadata": {},
   "outputs": [],
   "source": []
  },
  {
   "cell_type": "code",
   "execution_count": null,
   "metadata": {},
   "outputs": [],
   "source": []
  }
 ],
 "metadata": {
  "kernelspec": {
   "display_name": "Python 3",
   "language": "python",
   "name": "python3"
  },
  "language_info": {
   "codemirror_mode": {
    "name": "ipython",
    "version": 3
   },
   "file_extension": ".py",
   "mimetype": "text/x-python",
   "name": "python",
   "nbconvert_exporter": "python",
   "pygments_lexer": "ipython3",
   "version": "3.6.3"
  }
 },
 "nbformat": 4,
 "nbformat_minor": 2
}
