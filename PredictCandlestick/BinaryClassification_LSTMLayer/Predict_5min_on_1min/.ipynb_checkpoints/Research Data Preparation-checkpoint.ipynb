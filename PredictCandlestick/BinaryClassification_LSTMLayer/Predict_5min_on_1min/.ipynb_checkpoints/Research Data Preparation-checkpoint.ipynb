{
 "cells": [
  {
   "cell_type": "code",
   "execution_count": 111,
   "metadata": {
    "scrolled": true
   },
   "outputs": [],
   "source": [
    "import pandas as pd\n",
    "import datetime\n",
    "import numpy as np\n",
    "import time\n",
    "from CustomIndicators import moving_average, relative_strength, moving_average_convergence"
   ]
  },
  {
   "cell_type": "code",
   "execution_count": 112,
   "metadata": {
    "scrolled": true
   },
   "outputs": [],
   "source": [
    "def GetTheInputData(filename):\n",
    "    # import the candle stick data\n",
    "\n",
    "    MyRawData = pd.read_csv(filename) \n",
    "\n",
    "    \n",
    "    #calculate time series\n",
    "    MyRawData['time'] = pd.to_datetime(MyRawData['Gmt time'], format='%d.%m.%Y %H:%M:%S.000', utc=True)\n",
    "    MyRawData['time'] = MyRawData['time'].dt.date\n",
    "    MyRawData['time'] = pd.to_datetime(MyRawData['time'])\n",
    "    MyRawData['day of week'] = MyRawData['time'].dt.dayofweek\n",
    "\n",
    "   \n",
    "    \n",
    "    \n",
    "    MyRawData['Hour'] = MyRawData['Gmt time'].str[11:13].astype(dtype=np.int64)\n",
    "    MyRawData['Minute'] = MyRawData['Gmt time'].str[14:16].astype(dtype=np.int64)\n",
    "\n",
    "    #calculate candle size parameters in pips\n",
    "    MyRawData['BodyPips'] = abs((MyRawData['Open']-MyRawData['Close']) * 10000)\n",
    "    MyRawData['WickUpPips'] = (abs(MyRawData['Open']-MyRawData['High']) * 10000)\n",
    "    MyRawData['WickDownPips'] = (abs(MyRawData['Close']-MyRawData['Low']) * 10000)\n",
    "\n",
    "    MyRawData['Day of Week Normal'] = (MyRawData['day of week'] /4)\n",
    "    MyRawData['Hour Normal'] = (MyRawData['Hour'] /23)\n",
    "    MyRawData['Minute Normal'] = (MyRawData['Minute'] /59)\n",
    "    \n",
    "    #calculate the candle type - undecision, buy , sell\n",
    "    MyRawData.loc[MyRawData.BodyPips == 0, 'GreenOrRed?'] = 0\n",
    "    MyRawData.loc[MyRawData.Open < MyRawData.Close, 'GreenOrRed?'] = 1\n",
    "    MyRawData.loc[MyRawData.Open > MyRawData.Close, 'GreenOrRed?'] = 0\n",
    "\n",
    "  \n",
    "\n",
    "    nslow = 26\n",
    "    nfast = 12\n",
    "    nema = 9\n",
    "    MyRawData['EmaSlow'], MyRawData['EmaFast'], MyRawData['MACD'] = moving_average_convergence(MyRawData['Close'].values, nslow=nslow, nfast=nfast)\n",
    "    MyRawData['Ema9'] = moving_average(MyRawData['MACD'].values, nema, type='exponential')\n",
    "    MyRawData['RSI'] = relative_strength(MyRawData['Close'].values)\n",
    "\n",
    "    \n",
    "   \n",
    "    #Set number of days and standard deviations to use for rolling lookback period for Bollinger band calculation\n",
    "    window = 21\n",
    "    no_of_std = 2\n",
    "\n",
    "    #Calculate rolling mean and standard deviation using number of days set above\n",
    "    rolling_mean = MyRawData['Close'].rolling(window).mean()\n",
    "    rolling_std = MyRawData['Close'].rolling(window).std()\n",
    "\n",
    "    #create two new DataFrame columns to hold values of upper and lower Bollinger bands\n",
    "    MyRawData['Rolling Mean'] = rolling_mean\n",
    "    MyRawData['Bollinger High'] = rolling_mean + (rolling_std * no_of_std)\n",
    "    MyRawData['Bollinger Low'] = rolling_mean - (rolling_std * no_of_std)\n",
    "\n",
    "    \n",
    "    #populate las column with the output\n",
    "    #MyRawData['output'] = MyRawData['GreenOrRed?'].shift(11)\n",
    "    \n",
    "    \n",
    "    #MyRawData['next5close'] = MyRawData['Close'].shift(5)\n",
    "    #calculate the output after 5 min\n",
    "    #MyRawData.loc[MyRawData.next5close == MyRawData.Close , 'Output'] = 0\n",
    "    #MyRawData.loc[MyRawData.next5close > MyRawData.Close , 'Output'] = 1\n",
    "    #MyRawData.loc[MyRawData.next5close < MyRawData.Close , 'Output'] = 0\n",
    "    \n",
    "    \n",
    "    \n",
    "    \n",
    "    #remove not important fields\n",
    "    #del MyRawData['next5close'] \n",
    "    del MyRawData['Gmt time']\n",
    "    del MyRawData['Open']\n",
    "    del MyRawData['High']\n",
    "    del MyRawData['Low']\n",
    "    del MyRawData['Close']\n",
    "    del MyRawData['Volume']\n",
    "    del MyRawData['time']\n",
    "    del MyRawData['day of week']\n",
    "    del MyRawData['Hour'] \n",
    "    del MyRawData['Minute'] \n",
    "\n",
    "    #remove last row without output value\n",
    "    MyFinalData = MyRawData[50:-50]\n",
    "    #print(MyRawData['Day of Week'].tolist())\n",
    "    \n",
    "    #export_csv = MyRawData.to_csv ('test.csv', index = None, header=True)\n",
    "    \n",
    "    \n",
    "    return MyFinalData\n"
   ]
  },
  {
   "cell_type": "code",
   "execution_count": 113,
   "metadata": {
    "scrolled": true
   },
   "outputs": [],
   "source": [
    "def Candlestick_TimeSeries_Generator(Inputfile, BackSteps):\n",
    "    # import the candle stick data\n",
    "    \n",
    "    \n",
    "    dataset = Inputfile.values\n",
    "    datarows = len(dataset)\n",
    "    print(datarows)\n",
    "     \n",
    "    firstrow = 0\n",
    "    lastrow = BackSteps -1\n",
    "    \n",
    "    while lastrow < datarows:\n",
    "        sequence_to_add = dataset[firstrow:lastrow]\n",
    "        print(sequence_to_add)\n",
    "    \n",
    "    \n",
    "    print('done')\n",
    "    "
   ]
  },
  {
   "cell_type": "code",
   "execution_count": 114,
   "metadata": {},
   "outputs": [
    {
     "name": "stdout",
     "output_type": "stream",
     "text": [
      "44345\n"
     ]
    }
   ],
   "source": [
    "Candlestick_TimeSeries_Generator(GetTheInput('EURUSD_M1_NEW.csv'),10)"
   ]
  },
  {
   "cell_type": "code",
   "execution_count": null,
   "metadata": {},
   "outputs": [],
   "source": []
  },
  {
   "cell_type": "code",
   "execution_count": null,
   "metadata": {},
   "outputs": [],
   "source": []
  }
 ],
 "metadata": {
  "kernelspec": {
   "display_name": "Python 3",
   "language": "python",
   "name": "python3"
  },
  "language_info": {
   "codemirror_mode": {
    "name": "ipython",
    "version": 3
   },
   "file_extension": ".py",
   "mimetype": "text/x-python",
   "name": "python",
   "nbconvert_exporter": "python",
   "pygments_lexer": "ipython3",
   "version": "3.6.3"
  }
 },
 "nbformat": 4,
 "nbformat_minor": 2
}
